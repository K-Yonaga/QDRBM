{
 "cells": [
  {
   "cell_type": "markdown",
   "metadata": {},
   "source": [
    "# Quantum Discriminative Restricted Boltzmann Machine\n",
    "\n",
    "Quantum Discriminative Restricted Boltzmann Machine (QDRBM) is a statistical learning model for pattern recognition. QDRBM has three-layer architecture including a input, hidden, and output layer. In addition, we employ transvers field Ising model in the hidden layer of QDRBM. This notebook demonstrates an example of QDRBM with MNIST, Fashon-MNIST, or CIFAR10."
   ]
  },
  {
   "cell_type": "code",
   "execution_count": 1,
   "metadata": {},
   "outputs": [
    {
     "name": "stderr",
     "output_type": "stream",
     "text": [
      "2024-11-01 22:40:51.211303: I tensorflow/core/util/port.cc:113] oneDNN custom operations are on. You may see slightly different numerical results due to floating-point round-off errors from different computation orders. To turn them off, set the environment variable `TF_ENABLE_ONEDNN_OPTS=0`.\n",
      "2024-11-01 22:40:51.250194: E external/local_xla/xla/stream_executor/cuda/cuda_dnn.cc:9261] Unable to register cuDNN factory: Attempting to register factory for plugin cuDNN when one has already been registered\n",
      "2024-11-01 22:40:51.250235: E external/local_xla/xla/stream_executor/cuda/cuda_fft.cc:607] Unable to register cuFFT factory: Attempting to register factory for plugin cuFFT when one has already been registered\n",
      "2024-11-01 22:40:51.251289: E external/local_xla/xla/stream_executor/cuda/cuda_blas.cc:1515] Unable to register cuBLAS factory: Attempting to register factory for plugin cuBLAS when one has already been registered\n",
      "2024-11-01 22:40:51.257653: I tensorflow/core/platform/cpu_feature_guard.cc:182] This TensorFlow binary is optimized to use available CPU instructions in performance-critical operations.\n",
      "To enable the following instructions: AVX2 AVX512F AVX512_VNNI FMA, in other operations, rebuild TensorFlow with the appropriate compiler flags.\n",
      "2024-11-01 22:40:52.072443: W tensorflow/compiler/tf2tensorrt/utils/py_utils.cc:38] TF-TRT Warning: Could not find TensorRT\n",
      "2024-11-01 22:40:53.199902: I tensorflow/core/common_runtime/gpu/gpu_device.cc:1929] Created device /device:GPU:0 with 46461 MB memory:  -> device: 0, name: NVIDIA RTX A6000, pci bus id: 0000:3b:00.0, compute capability: 8.6\n"
     ]
    },
    {
     "data": {
      "text/plain": [
       "[name: \"/device:CPU:0\"\n",
       " device_type: \"CPU\"\n",
       " memory_limit: 268435456\n",
       " locality {\n",
       " }\n",
       " incarnation: 15916182860242192722\n",
       " xla_global_id: -1,\n",
       " name: \"/device:GPU:0\"\n",
       " device_type: \"GPU\"\n",
       " memory_limit: 48718282752\n",
       " locality {\n",
       "   bus_id: 1\n",
       "   links {\n",
       "     link {\n",
       "       device_id: 1\n",
       "       type: \"StreamExecutor\"\n",
       "       strength: 1\n",
       "     }\n",
       "   }\n",
       " }\n",
       " incarnation: 12847135903525850816\n",
       " physical_device_desc: \"device: 0, name: NVIDIA RTX A6000, pci bus id: 0000:3b:00.0, compute capability: 8.6\"\n",
       " xla_global_id: 416903419,\n",
       " name: \"/device:GPU:1\"\n",
       " device_type: \"GPU\"\n",
       " memory_limit: 49021648896\n",
       " locality {\n",
       "   bus_id: 2\n",
       "   numa_node: 1\n",
       "   links {\n",
       "     link {\n",
       "       type: \"StreamExecutor\"\n",
       "       strength: 1\n",
       "     }\n",
       "   }\n",
       " }\n",
       " incarnation: 9044377813431140418\n",
       " physical_device_desc: \"device: 1, name: NVIDIA RTX A6000, pci bus id: 0000:af:00.0, compute capability: 8.6\"\n",
       " xla_global_id: 2144165316]"
      ]
     },
     "execution_count": 1,
     "metadata": {},
     "output_type": "execute_result"
    },
    {
     "name": "stderr",
     "output_type": "stream",
     "text": [
      "2024-11-01 22:40:53.201547: I tensorflow/core/common_runtime/gpu/gpu_device.cc:1929] Created device /device:GPU:1 with 46750 MB memory:  -> device: 1, name: NVIDIA RTX A6000, pci bus id: 0000:af:00.0, compute capability: 8.6\n"
     ]
    }
   ],
   "source": [
    "%load_ext autoreload\n",
    "%autoreload 2\n",
    "\n",
    "import math\n",
    "import numpy as np\n",
    "import random\n",
    "import tensorflow as tf\n",
    "from tensorflow import keras\n",
    "\n",
    "from tensorflow.python.client import device_lib\n",
    "device_lib.list_local_devices()"
   ]
  },
  {
   "attachments": {},
   "cell_type": "markdown",
   "metadata": {},
   "source": [
    "## Data preparation"
   ]
  },
  {
   "cell_type": "markdown",
   "metadata": {},
   "source": [
    "### Load Data"
   ]
  },
  {
   "cell_type": "code",
   "execution_count": 2,
   "metadata": {},
   "outputs": [],
   "source": [
    "fashion_mnist = tf.keras.datasets.fashion_mnist\n",
    "(train_images, train_labels), (test_images, test_labels) = fashion_mnist.load_data()\n",
    "#mnist = tf.keras.datasets.mnist\n",
    "#(train_images, train_labels), (test_images, test_labels) = mnist.load_data()\n",
    "#cifar10 = tf.keras.datasets.cifar10\n",
    "#(train_images, train_labels), (test_images, test_labels) = cifar10.load_data()\n",
    "#train_labels = train_labels[:, 0]\n",
    "#test_labels = test_labels[:, 0]"
   ]
  },
  {
   "cell_type": "markdown",
   "metadata": {},
   "source": [
    "### Noarmalization of images\n",
    "\n",
    "Input data are scaled from (0, 255) to a range of (0., +1.)"
   ]
  },
  {
   "cell_type": "code",
   "execution_count": 3,
   "metadata": {},
   "outputs": [
    {
     "name": "stderr",
     "output_type": "stream",
     "text": [
      "2024-11-01 22:40:53.861224: I tensorflow/core/common_runtime/gpu/gpu_device.cc:1929] Created device /job:localhost/replica:0/task:0/device:GPU:0 with 46461 MB memory:  -> device: 0, name: NVIDIA RTX A6000, pci bus id: 0000:3b:00.0, compute capability: 8.6\n",
      "2024-11-01 22:40:53.862262: I tensorflow/core/common_runtime/gpu/gpu_device.cc:1929] Created device /job:localhost/replica:0/task:0/device:GPU:1 with 46750 MB memory:  -> device: 1, name: NVIDIA RTX A6000, pci bus id: 0000:af:00.0, compute capability: 8.6\n"
     ]
    }
   ],
   "source": [
    "train_images = tf.cast(train_images/255, dtype=tf.float32)\n",
    "test_images = tf.cast(test_images /255, dtype=tf.float32)"
   ]
  },
  {
   "cell_type": "markdown",
   "metadata": {},
   "source": [
    "### Data flattening"
   ]
  },
  {
   "cell_type": "code",
   "execution_count": 4,
   "metadata": {},
   "outputs": [],
   "source": [
    "x_train = tf.reshape(train_images, [train_images.shape[0], -1])\n",
    "x_test = tf.reshape(test_images, [test_images.shape[0], -1])"
   ]
  },
  {
   "cell_type": "markdown",
   "metadata": {},
   "source": [
    "### Onehot representation of labels"
   ]
  },
  {
   "cell_type": "code",
   "execution_count": 5,
   "metadata": {},
   "outputs": [],
   "source": [
    "y_train = tf.one_hot(train_labels, 10)\n",
    "y_test = tf.one_hot(test_labels, 10)"
   ]
  },
  {
   "attachments": {},
   "cell_type": "markdown",
   "metadata": {},
   "source": [
    "### Scaling data range as [0,1]->[-1,1]"
   ]
  },
  {
   "cell_type": "code",
   "execution_count": 6,
   "metadata": {},
   "outputs": [],
   "source": [
    "x_train = 2*x_train - 1\n",
    "x_test = 2*x_test - 1\n",
    "y_train = 2*y_train - 1\n",
    "y_test = 2*y_test - 1"
   ]
  },
  {
   "cell_type": "code",
   "execution_count": 7,
   "metadata": {},
   "outputs": [
    {
     "data": {
      "image/png": "[encoded data removed]",
      "text/plain": [
       "<Figure size 640x480 with 2 Axes>"
      ]
     },
     "metadata": {},
     "output_type": "display_data"
    }
   ],
   "source": [
    "import matplotlib.pyplot as plt\n",
    "plt.figure()\n",
    "plt.imshow(train_images[0])\n",
    "plt.colorbar()\n",
    "plt.grid(False)\n",
    "plt.show()"
   ]
  },
  {
   "cell_type": "markdown",
   "metadata": {},
   "source": [
    "## Create and Train QDRBM"
   ]
  },
  {
   "cell_type": "code",
   "execution_count": 8,
   "metadata": {},
   "outputs": [],
   "source": [
    "from layers import *\n",
    "from qdrbm import DRBM\n",
    "from loss import negative_loglikelihood\n",
    "\n",
    "initializer = 'glorot_uniform'\n",
    "quantum_initializer = 'glorot_uniform'"
   ]
  },
  {
   "cell_type": "markdown",
   "metadata": {},
   "source": [
    "### Create QDRBM model\n",
    "\n",
    "We create QDRBM model with discriminative restricted Boltzmann machine (DRBM). The DRBM classsupport only architecture including a input, hidden, and output layer. If we use RBMLayer instead of QRBMLayer in the below example, we can define the conventional DRBM model."
   ]
  },
  {
   "cell_type": "code",
   "execution_count": 9,
   "metadata": {},
   "outputs": [],
   "source": [
    "model = DRBM(num_classes=10)\n",
    "model.add(InputLayer(num_input_units=x_train[0].shape[0]))\n",
    "model.add(QRBMLayer(500, \n",
    "    weight_initializer=initializer))\n",
    "model.add(RBMLayer(10, weight_initializer=initializer))"
   ]
  },
  {
   "cell_type": "code",
   "execution_count": 10,
   "metadata": {},
   "outputs": [
    {
     "name": "stdout",
     "output_type": "stream",
     "text": [
      "Model: \"drbm\"\n",
      "_________________________________________________________________\n",
      " Layer (type)                Output Shape              Param #   \n",
      "=================================================================\n",
      " qrbm_layer (QRBMLayer)      (None, 500)               393000    \n",
      "                                                                 \n",
      " rbm_layer (RBMLayer)        (None, 10)                5010      \n",
      "                                                                 \n",
      "=================================================================\n",
      "Total params: 398010 (1.52 MB)\n",
      "Trainable params: 398010 (1.52 MB)\n",
      "Non-trainable params: 0 (0.00 Byte)\n",
      "_________________________________________________________________\n"
     ]
    }
   ],
   "source": [
    "model.summary()"
   ]
  },
  {
   "cell_type": "code",
   "execution_count": 11,
   "metadata": {},
   "outputs": [],
   "source": [
    "model.compile(\n",
    "    optimizer=tf.keras.optimizers.Adam(learning_rate=0.001),\n",
    "    #run_eagerly=True,\n",
    "    loss=[negative_loglikelihood],\n",
    "    metrics=[tf.keras.metrics.CategoricalAccuracy()])"
   ]
  },
  {
   "cell_type": "markdown",
   "metadata": {},
   "source": [
    "### Train model"
   ]
  },
  {
   "cell_type": "code",
   "execution_count": 12,
   "metadata": {},
   "outputs": [
    {
     "name": "stdout",
     "output_type": "stream",
     "text": [
      "Epoch 1/100\n"
     ]
    },
    {
     "name": "stderr",
     "output_type": "stream",
     "text": [
      "2024-11-01 22:40:57.301157: I external/local_xla/xla/service/service.cc:168] XLA service 0x782bec8e7c50 initialized for platform CUDA (this does not guarantee that XLA will be used). Devices:\n",
      "2024-11-01 22:40:57.301190: I external/local_xla/xla/service/service.cc:176]   StreamExecutor device (0): NVIDIA RTX A6000, Compute Capability 8.6\n",
      "2024-11-01 22:40:57.301197: I external/local_xla/xla/service/service.cc:176]   StreamExecutor device (1): NVIDIA RTX A6000, Compute Capability 8.6\n",
      "2024-11-01 22:40:57.307854: I tensorflow/compiler/mlir/tensorflow/utils/dump_mlir_util.cc:269] disabling MLIR crash reproducer, set env var `MLIR_CRASH_REPRODUCER_DIRECTORY` to enable.\n",
      "2024-11-01 22:40:57.331251: I external/local_xla/xla/stream_executor/cuda/cuda_dnn.cc:454] Loaded cuDNN version 8904\n",
      "WARNING: All log messages before absl::InitializeLog() is called are written to STDERR\n",
      "I0000 00:00:1730468457.402347   44996 device_compiler.h:186] Compiled cluster using XLA!  This line is logged at most once for the lifetime of the process.\n"
     ]
    },
    {
     "name": "stdout",
     "output_type": "stream",
     "text": [
      "600/600 [==============================] - 6s 7ms/step - loss: 0.5231 - categorical_accuracy: 0.8192 - val_loss: 0.4271 - val_categorical_accuracy: 0.8462\n",
      "Epoch 2/100\n",
      "600/600 [==============================] - 4s 7ms/step - loss: 0.3753 - categorical_accuracy: 0.8644 - val_loss: 0.4344 - val_categorical_accuracy: 0.8479\n",
      "Epoch 3/100\n",
      "600/600 [==============================] - 4s 7ms/step - loss: 0.3396 - categorical_accuracy: 0.8755 - val_loss: 0.3980 - val_categorical_accuracy: 0.8583\n",
      "Epoch 4/100\n",
      "600/600 [==============================] - 4s 7ms/step - loss: 0.3170 - categorical_accuracy: 0.8822 - val_loss: 0.3876 - val_categorical_accuracy: 0.8659\n",
      "Epoch 5/100\n",
      "600/600 [==============================] - 4s 7ms/step - loss: 0.2942 - categorical_accuracy: 0.8905 - val_loss: 0.3713 - val_categorical_accuracy: 0.8694\n",
      "Epoch 6/100\n",
      "600/600 [==============================] - 4s 7ms/step - loss: 0.2799 - categorical_accuracy: 0.8960 - val_loss: 0.3462 - val_categorical_accuracy: 0.8758\n",
      "Epoch 7/100\n",
      "600/600 [==============================] - 4s 7ms/step - loss: 0.2662 - categorical_accuracy: 0.9013 - val_loss: 0.3653 - val_categorical_accuracy: 0.8724\n",
      "Epoch 8/100\n",
      "600/600 [==============================] - 4s 7ms/step - loss: 0.2632 - categorical_accuracy: 0.9027 - val_loss: 0.3761 - val_categorical_accuracy: 0.8710\n",
      "Epoch 9/100\n",
      "600/600 [==============================] - 4s 7ms/step - loss: 0.2541 - categorical_accuracy: 0.9048 - val_loss: 0.3657 - val_categorical_accuracy: 0.8743\n",
      "Epoch 10/100\n",
      "600/600 [==============================] - 4s 7ms/step - loss: 0.2435 - categorical_accuracy: 0.9097 - val_loss: 0.3753 - val_categorical_accuracy: 0.8728\n",
      "Epoch 11/100\n",
      "600/600 [==============================] - 4s 7ms/step - loss: 0.2349 - categorical_accuracy: 0.9136 - val_loss: 0.3547 - val_categorical_accuracy: 0.8767\n",
      "Epoch 12/100\n",
      "600/600 [==============================] - 4s 7ms/step - loss: 0.2252 - categorical_accuracy: 0.9162 - val_loss: 0.4097 - val_categorical_accuracy: 0.8679\n",
      "Epoch 13/100\n",
      "600/600 [==============================] - 4s 7ms/step - loss: 0.2150 - categorical_accuracy: 0.9181 - val_loss: 0.3559 - val_categorical_accuracy: 0.8818\n",
      "Epoch 14/100\n",
      "600/600 [==============================] - 4s 7ms/step - loss: 0.2079 - categorical_accuracy: 0.9225 - val_loss: 0.3780 - val_categorical_accuracy: 0.8753\n",
      "Epoch 15/100\n",
      "600/600 [==============================] - 4s 7ms/step - loss: 0.2087 - categorical_accuracy: 0.9214 - val_loss: 0.3533 - val_categorical_accuracy: 0.8839\n",
      "Epoch 16/100\n",
      "600/600 [==============================] - 4s 7ms/step - loss: 0.1972 - categorical_accuracy: 0.9266 - val_loss: 0.3952 - val_categorical_accuracy: 0.8711\n",
      "Epoch 17/100\n",
      "600/600 [==============================] - 4s 7ms/step - loss: 0.1895 - categorical_accuracy: 0.9293 - val_loss: 0.3838 - val_categorical_accuracy: 0.8805\n",
      "Epoch 18/100\n",
      "600/600 [==============================] - 4s 7ms/step - loss: 0.1828 - categorical_accuracy: 0.9323 - val_loss: 0.4047 - val_categorical_accuracy: 0.8745\n",
      "Epoch 19/100\n",
      "600/600 [==============================] - 4s 7ms/step - loss: 0.1800 - categorical_accuracy: 0.9326 - val_loss: 0.3670 - val_categorical_accuracy: 0.8838\n",
      "Epoch 20/100\n",
      "600/600 [==============================] - 4s 7ms/step - loss: 0.1753 - categorical_accuracy: 0.9344 - val_loss: 0.4013 - val_categorical_accuracy: 0.8772\n",
      "Epoch 21/100\n",
      "600/600 [==============================] - 4s 7ms/step - loss: 0.1679 - categorical_accuracy: 0.9380 - val_loss: 0.4057 - val_categorical_accuracy: 0.8772\n",
      "Epoch 22/100\n",
      "600/600 [==============================] - 4s 7ms/step - loss: 0.1664 - categorical_accuracy: 0.9379 - val_loss: 0.3768 - val_categorical_accuracy: 0.8830\n",
      "Epoch 23/100\n",
      "600/600 [==============================] - 4s 7ms/step - loss: 0.1605 - categorical_accuracy: 0.9396 - val_loss: 0.3762 - val_categorical_accuracy: 0.8819\n",
      "Epoch 24/100\n",
      "600/600 [==============================] - 4s 7ms/step - loss: 0.1514 - categorical_accuracy: 0.9435 - val_loss: 0.4153 - val_categorical_accuracy: 0.8743\n",
      "Epoch 25/100\n",
      "600/600 [==============================] - 4s 7ms/step - loss: 0.1567 - categorical_accuracy: 0.9426 - val_loss: 0.4273 - val_categorical_accuracy: 0.8767\n",
      "Epoch 26/100\n",
      "600/600 [==============================] - 4s 7ms/step - loss: 0.1444 - categorical_accuracy: 0.9465 - val_loss: 0.3923 - val_categorical_accuracy: 0.8832\n",
      "Epoch 27/100\n",
      "600/600 [==============================] - 4s 7ms/step - loss: 0.1422 - categorical_accuracy: 0.9475 - val_loss: 0.4063 - val_categorical_accuracy: 0.8791\n",
      "Epoch 28/100\n",
      "600/600 [==============================] - 4s 7ms/step - loss: 0.1344 - categorical_accuracy: 0.9498 - val_loss: 0.4035 - val_categorical_accuracy: 0.8844\n",
      "Epoch 29/100\n",
      "600/600 [==============================] - 4s 7ms/step - loss: 0.1346 - categorical_accuracy: 0.9503 - val_loss: 0.4191 - val_categorical_accuracy: 0.8825\n",
      "Epoch 30/100\n",
      "600/600 [==============================] - 4s 7ms/step - loss: 0.1296 - categorical_accuracy: 0.9519 - val_loss: 0.4309 - val_categorical_accuracy: 0.8804\n",
      "Epoch 31/100\n",
      "600/600 [==============================] - 4s 7ms/step - loss: 0.1244 - categorical_accuracy: 0.9536 - val_loss: 0.4564 - val_categorical_accuracy: 0.8699\n",
      "Epoch 32/100\n",
      "600/600 [==============================] - 4s 7ms/step - loss: 0.1248 - categorical_accuracy: 0.9541 - val_loss: 0.4594 - val_categorical_accuracy: 0.8758\n",
      "Epoch 33/100\n",
      "600/600 [==============================] - 4s 7ms/step - loss: 0.1159 - categorical_accuracy: 0.9570 - val_loss: 0.5047 - val_categorical_accuracy: 0.8640\n",
      "Epoch 34/100\n",
      "600/600 [==============================] - 4s 7ms/step - loss: 0.1225 - categorical_accuracy: 0.9541 - val_loss: 0.4267 - val_categorical_accuracy: 0.8873\n",
      "Epoch 35/100\n",
      "600/600 [==============================] - 4s 7ms/step - loss: 0.1140 - categorical_accuracy: 0.9578 - val_loss: 0.4384 - val_categorical_accuracy: 0.8820\n",
      "Epoch 36/100\n",
      "600/600 [==============================] - 4s 7ms/step - loss: 0.1128 - categorical_accuracy: 0.9581 - val_loss: 0.4484 - val_categorical_accuracy: 0.8815\n",
      "Epoch 37/100\n",
      "600/600 [==============================] - 4s 7ms/step - loss: 0.1098 - categorical_accuracy: 0.9590 - val_loss: 0.4426 - val_categorical_accuracy: 0.8841\n",
      "Epoch 38/100\n",
      "600/600 [==============================] - 4s 7ms/step - loss: 0.1008 - categorical_accuracy: 0.9621 - val_loss: 0.4619 - val_categorical_accuracy: 0.8775\n",
      "Epoch 39/100\n",
      "600/600 [==============================] - 4s 7ms/step - loss: 0.1019 - categorical_accuracy: 0.9621 - val_loss: 0.4512 - val_categorical_accuracy: 0.8842\n",
      "Epoch 40/100\n",
      "600/600 [==============================] - 4s 7ms/step - loss: 0.0988 - categorical_accuracy: 0.9631 - val_loss: 0.4535 - val_categorical_accuracy: 0.8844\n",
      "Epoch 41/100\n",
      "600/600 [==============================] - 4s 7ms/step - loss: 0.0939 - categorical_accuracy: 0.9657 - val_loss: 0.4737 - val_categorical_accuracy: 0.8840\n",
      "Epoch 42/100\n",
      "600/600 [==============================] - 4s 7ms/step - loss: 0.0968 - categorical_accuracy: 0.9637 - val_loss: 0.4968 - val_categorical_accuracy: 0.8842\n",
      "Epoch 43/100\n",
      "600/600 [==============================] - 4s 7ms/step - loss: 0.0945 - categorical_accuracy: 0.9647 - val_loss: 0.4911 - val_categorical_accuracy: 0.8800\n",
      "Epoch 44/100\n",
      "600/600 [==============================] - 4s 7ms/step - loss: 0.0931 - categorical_accuracy: 0.9645 - val_loss: 0.4772 - val_categorical_accuracy: 0.8873\n",
      "Epoch 45/100\n",
      "600/600 [==============================] - 4s 7ms/step - loss: 0.0862 - categorical_accuracy: 0.9681 - val_loss: 0.4819 - val_categorical_accuracy: 0.8840\n",
      "Epoch 46/100\n",
      "600/600 [==============================] - 4s 7ms/step - loss: 0.0884 - categorical_accuracy: 0.9677 - val_loss: 0.4916 - val_categorical_accuracy: 0.8852\n",
      "Epoch 47/100\n",
      "600/600 [==============================] - 4s 7ms/step - loss: 0.0830 - categorical_accuracy: 0.9691 - val_loss: 0.4796 - val_categorical_accuracy: 0.8841\n",
      "Epoch 48/100\n",
      "600/600 [==============================] - 4s 7ms/step - loss: 0.0759 - categorical_accuracy: 0.9721 - val_loss: 0.5131 - val_categorical_accuracy: 0.8824\n",
      "Epoch 49/100\n",
      "600/600 [==============================] - 4s 7ms/step - loss: 0.0798 - categorical_accuracy: 0.9704 - val_loss: 0.5082 - val_categorical_accuracy: 0.8840\n",
      "Epoch 50/100\n",
      "600/600 [==============================] - 4s 7ms/step - loss: 0.0838 - categorical_accuracy: 0.9694 - val_loss: 0.5118 - val_categorical_accuracy: 0.8819\n",
      "Epoch 51/100\n",
      "600/600 [==============================] - 4s 7ms/step - loss: 0.0816 - categorical_accuracy: 0.9696 - val_loss: 0.5354 - val_categorical_accuracy: 0.8776\n",
      "Epoch 52/100\n",
      "600/600 [==============================] - 4s 7ms/step - loss: 0.0838 - categorical_accuracy: 0.9698 - val_loss: 0.5284 - val_categorical_accuracy: 0.8811\n",
      "Epoch 53/100\n",
      "600/600 [==============================] - 4s 7ms/step - loss: 0.0720 - categorical_accuracy: 0.9732 - val_loss: 0.5538 - val_categorical_accuracy: 0.8780\n",
      "Epoch 54/100\n",
      "600/600 [==============================] - 4s 7ms/step - loss: 0.0795 - categorical_accuracy: 0.9708 - val_loss: 0.5821 - val_categorical_accuracy: 0.8751\n",
      "Epoch 55/100\n",
      "600/600 [==============================] - 4s 7ms/step - loss: 0.0770 - categorical_accuracy: 0.9707 - val_loss: 0.5179 - val_categorical_accuracy: 0.8829\n",
      "Epoch 56/100\n",
      "600/600 [==============================] - 4s 7ms/step - loss: 0.0682 - categorical_accuracy: 0.9752 - val_loss: 0.5238 - val_categorical_accuracy: 0.8828\n",
      "Epoch 57/100\n",
      "600/600 [==============================] - 4s 7ms/step - loss: 0.0686 - categorical_accuracy: 0.9740 - val_loss: 0.5518 - val_categorical_accuracy: 0.8778\n",
      "Epoch 58/100\n",
      "600/600 [==============================] - 4s 7ms/step - loss: 0.0607 - categorical_accuracy: 0.9785 - val_loss: 0.5630 - val_categorical_accuracy: 0.8807\n",
      "Epoch 59/100\n",
      "600/600 [==============================] - 4s 7ms/step - loss: 0.0734 - categorical_accuracy: 0.9728 - val_loss: 0.5765 - val_categorical_accuracy: 0.8825\n",
      "Epoch 60/100\n",
      "600/600 [==============================] - 4s 7ms/step - loss: 0.0652 - categorical_accuracy: 0.9758 - val_loss: 0.5562 - val_categorical_accuracy: 0.8807\n",
      "Epoch 61/100\n",
      "600/600 [==============================] - 4s 7ms/step - loss: 0.0598 - categorical_accuracy: 0.9786 - val_loss: 0.5880 - val_categorical_accuracy: 0.8792\n",
      "Epoch 62/100\n",
      "600/600 [==============================] - 4s 7ms/step - loss: 0.0710 - categorical_accuracy: 0.9735 - val_loss: 0.5860 - val_categorical_accuracy: 0.8780\n",
      "Epoch 63/100\n",
      "600/600 [==============================] - 4s 7ms/step - loss: 0.0603 - categorical_accuracy: 0.9778 - val_loss: 0.5567 - val_categorical_accuracy: 0.8830\n",
      "Epoch 64/100\n",
      "600/600 [==============================] - 4s 7ms/step - loss: 0.0663 - categorical_accuracy: 0.9754 - val_loss: 0.6082 - val_categorical_accuracy: 0.8747\n",
      "Epoch 65/100\n",
      "600/600 [==============================] - 4s 7ms/step - loss: 0.0599 - categorical_accuracy: 0.9777 - val_loss: 0.6334 - val_categorical_accuracy: 0.8738\n",
      "Epoch 66/100\n",
      "600/600 [==============================] - 4s 7ms/step - loss: 0.0562 - categorical_accuracy: 0.9793 - val_loss: 0.5956 - val_categorical_accuracy: 0.8787\n",
      "Epoch 67/100\n",
      "600/600 [==============================] - 4s 7ms/step - loss: 0.0537 - categorical_accuracy: 0.9805 - val_loss: 0.5997 - val_categorical_accuracy: 0.8782\n",
      "Epoch 68/100\n",
      "600/600 [==============================] - 4s 7ms/step - loss: 0.0528 - categorical_accuracy: 0.9810 - val_loss: 0.6148 - val_categorical_accuracy: 0.8776\n",
      "Epoch 69/100\n",
      "600/600 [==============================] - 4s 7ms/step - loss: 0.0597 - categorical_accuracy: 0.9774 - val_loss: 0.6057 - val_categorical_accuracy: 0.8800\n",
      "Epoch 70/100\n",
      "600/600 [==============================] - 4s 7ms/step - loss: 0.0508 - categorical_accuracy: 0.9817 - val_loss: 0.6256 - val_categorical_accuracy: 0.8762\n",
      "Epoch 71/100\n",
      "600/600 [==============================] - 4s 7ms/step - loss: 0.0502 - categorical_accuracy: 0.9813 - val_loss: 0.5930 - val_categorical_accuracy: 0.8809\n",
      "Epoch 72/100\n",
      "600/600 [==============================] - 4s 7ms/step - loss: 0.0590 - categorical_accuracy: 0.9778 - val_loss: 0.6016 - val_categorical_accuracy: 0.8835\n",
      "Epoch 73/100\n",
      "600/600 [==============================] - 4s 7ms/step - loss: 0.0511 - categorical_accuracy: 0.9809 - val_loss: 0.5905 - val_categorical_accuracy: 0.8818\n",
      "Epoch 74/100\n",
      "600/600 [==============================] - 4s 7ms/step - loss: 0.0495 - categorical_accuracy: 0.9820 - val_loss: 0.6147 - val_categorical_accuracy: 0.8806\n",
      "Epoch 75/100\n",
      "600/600 [==============================] - 4s 7ms/step - loss: 0.0541 - categorical_accuracy: 0.9797 - val_loss: 0.6393 - val_categorical_accuracy: 0.8834\n",
      "Epoch 76/100\n",
      "600/600 [==============================] - 4s 7ms/step - loss: 0.0486 - categorical_accuracy: 0.9826 - val_loss: 0.6427 - val_categorical_accuracy: 0.8804\n",
      "Epoch 77/100\n",
      "600/600 [==============================] - 4s 7ms/step - loss: 0.0529 - categorical_accuracy: 0.9801 - val_loss: 0.6800 - val_categorical_accuracy: 0.8729\n",
      "Epoch 78/100\n",
      "600/600 [==============================] - 4s 7ms/step - loss: 0.0520 - categorical_accuracy: 0.9812 - val_loss: 0.6502 - val_categorical_accuracy: 0.8768\n",
      "Epoch 79/100\n",
      "600/600 [==============================] - 4s 7ms/step - loss: 0.0478 - categorical_accuracy: 0.9830 - val_loss: 0.6361 - val_categorical_accuracy: 0.8810\n",
      "Epoch 80/100\n",
      "600/600 [==============================] - 4s 7ms/step - loss: 0.0596 - categorical_accuracy: 0.9777 - val_loss: 0.6358 - val_categorical_accuracy: 0.8810\n",
      "Epoch 81/100\n",
      "600/600 [==============================] - 4s 7ms/step - loss: 0.0529 - categorical_accuracy: 0.9807 - val_loss: 0.6764 - val_categorical_accuracy: 0.8780\n",
      "Epoch 82/100\n",
      "600/600 [==============================] - 4s 7ms/step - loss: 0.0449 - categorical_accuracy: 0.9836 - val_loss: 0.6572 - val_categorical_accuracy: 0.8821\n",
      "Epoch 83/100\n",
      "600/600 [==============================] - 4s 7ms/step - loss: 0.0440 - categorical_accuracy: 0.9833 - val_loss: 0.6626 - val_categorical_accuracy: 0.8778\n",
      "Epoch 84/100\n",
      "600/600 [==============================] - 4s 7ms/step - loss: 0.0461 - categorical_accuracy: 0.9830 - val_loss: 0.6450 - val_categorical_accuracy: 0.8823\n",
      "Epoch 85/100\n",
      "600/600 [==============================] - 4s 7ms/step - loss: 0.0510 - categorical_accuracy: 0.9806 - val_loss: 0.6741 - val_categorical_accuracy: 0.8786\n",
      "Epoch 86/100\n",
      "600/600 [==============================] - 4s 7ms/step - loss: 0.0412 - categorical_accuracy: 0.9849 - val_loss: 0.7262 - val_categorical_accuracy: 0.8727\n",
      "Epoch 87/100\n",
      "600/600 [==============================] - 4s 7ms/step - loss: 0.0489 - categorical_accuracy: 0.9820 - val_loss: 0.6837 - val_categorical_accuracy: 0.8821\n",
      "Epoch 88/100\n",
      "600/600 [==============================] - 4s 7ms/step - loss: 0.0364 - categorical_accuracy: 0.9869 - val_loss: 0.7107 - val_categorical_accuracy: 0.8780\n",
      "Epoch 89/100\n",
      "600/600 [==============================] - 4s 7ms/step - loss: 0.0528 - categorical_accuracy: 0.9810 - val_loss: 0.6887 - val_categorical_accuracy: 0.8777\n",
      "Epoch 90/100\n",
      "600/600 [==============================] - 4s 7ms/step - loss: 0.0425 - categorical_accuracy: 0.9840 - val_loss: 0.7085 - val_categorical_accuracy: 0.8780\n",
      "Epoch 91/100\n",
      "600/600 [==============================] - 4s 7ms/step - loss: 0.0285 - categorical_accuracy: 0.9895 - val_loss: 0.6929 - val_categorical_accuracy: 0.8817\n",
      "Epoch 92/100\n",
      "600/600 [==============================] - 4s 7ms/step - loss: 0.0537 - categorical_accuracy: 0.9798 - val_loss: 0.6657 - val_categorical_accuracy: 0.8825\n",
      "Epoch 93/100\n",
      "600/600 [==============================] - 4s 7ms/step - loss: 0.0399 - categorical_accuracy: 0.9854 - val_loss: 0.7016 - val_categorical_accuracy: 0.8806\n",
      "Epoch 94/100\n",
      "600/600 [==============================] - 4s 7ms/step - loss: 0.0360 - categorical_accuracy: 0.9870 - val_loss: 0.7282 - val_categorical_accuracy: 0.8775\n",
      "Epoch 95/100\n",
      "600/600 [==============================] - 4s 7ms/step - loss: 0.0413 - categorical_accuracy: 0.9850 - val_loss: 0.7341 - val_categorical_accuracy: 0.8770\n",
      "Epoch 96/100\n",
      "600/600 [==============================] - 4s 7ms/step - loss: 0.0349 - categorical_accuracy: 0.9869 - val_loss: 0.7272 - val_categorical_accuracy: 0.8786\n",
      "Epoch 97/100\n",
      "600/600 [==============================] - 4s 7ms/step - loss: 0.0438 - categorical_accuracy: 0.9834 - val_loss: 0.7090 - val_categorical_accuracy: 0.8834\n",
      "Epoch 98/100\n",
      "600/600 [==============================] - 4s 7ms/step - loss: 0.0405 - categorical_accuracy: 0.9852 - val_loss: 0.7180 - val_categorical_accuracy: 0.8820\n",
      "Epoch 99/100\n",
      "600/600 [==============================] - 4s 7ms/step - loss: 0.0292 - categorical_accuracy: 0.9898 - val_loss: 0.7243 - val_categorical_accuracy: 0.8798\n",
      "Epoch 100/100\n",
      "600/600 [==============================] - 4s 7ms/step - loss: 0.0463 - categorical_accuracy: 0.9837 - val_loss: 0.7318 - val_categorical_accuracy: 0.8792\n"
     ]
    }
   ],
   "source": [
    "history = model.fit(\n",
    "    x_train,\n",
    "    y_train,\n",
    "    epochs=100, \n",
    "    validation_data=(x_test, y_test),\n",
    "    batch_size=100)"
   ]
  },
  {
   "cell_type": "markdown",
   "metadata": {},
   "source": [
    "### Check prediction accuracy"
   ]
  },
  {
   "cell_type": "code",
   "execution_count": 15,
   "metadata": {},
   "outputs": [
    {
     "name": "stdout",
     "output_type": "stream",
     "text": [
      "313/313 [==============================] - 1s 4ms/step - loss: 0.7318 - categorical_accuracy: 0.8792\n",
      "[0.7318017482757568, 0.8791999816894531]\n"
     ]
    }
   ],
   "source": [
    "results = model.evaluate(\n",
    "    x_test,\n",
    "    y_test)\n",
    "print(results)"
   ]
  },
  {
   "cell_type": "markdown",
   "metadata": {},
   "source": [
    "### Plot history"
   ]
  },
  {
   "cell_type": "code",
   "execution_count": 14,
   "metadata": {},
   "outputs": [
    {
     "data": {
      "text/plain": [
       "<Axes: >"
      ]
     },
     "execution_count": 14,
     "metadata": {},
     "output_type": "execute_result"
    },
    {
     "data": {
      "image/png": "[encoded data removed]",
      "text/plain": [
       "<Figure size 640x480 with 1 Axes>"
      ]
     },
     "metadata": {},
     "output_type": "display_data"
    }
   ],
   "source": [
    "import pandas as pd\n",
    "pd.DataFrame(history.history)[['loss', 'val_loss']].plot()"
   ]
  },
  {
   "cell_type": "code",
   "execution_count": null,
   "metadata": {},
   "outputs": [],
   "source": []
  },
  {
   "cell_type": "code",
   "execution_count": null,
   "metadata": {},
   "outputs": [],
   "source": []
  }
 ],
 "metadata": {
  "kernelspec": {
   "display_name": "base",
   "language": "python",
   "name": "python3"
  },
  "language_info": {
   "codemirror_mode": {
    "name": "ipython",
    "version": 3
   },
   "file_extension": ".py",
   "mimetype": "text/x-python",
   "name": "python",
   "nbconvert_exporter": "python",
   "pygments_lexer": "ipython3",
   "version": "3.11.5"
  }
 },
 "nbformat": 4,
 "nbformat_minor": 4
}
